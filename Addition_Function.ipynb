{
 "cells": [
  {
   "cell_type": "code",
   "execution_count": 1,
   "id": "a0ee4af4",
   "metadata": {},
   "outputs": [],
   "source": [
    "def sum_of_two(num1,num2):\n",
    "    sumNum = num1 + num2\n",
    "    return sumNum\n",
    "anum1 = int(input(\"Please enter two numbers: \"))\n",
    "anum2 = int(input(\"Please enter two numbers: \"))\n",
    "sum_of_two(anum1,anum2)"
   ]
  },
  {
   "cell_type": "code",
   "execution_count": null,
   "id": "61c619de",
   "metadata": {},
   "outputs": [],
   "source": []
  },
  {
   "cell_type": "code",
   "execution_count": null,
   "id": "24dd6d0c",
   "metadata": {},
   "outputs": [],
   "source": []
  }
 ],
 "metadata": {
  "kernelspec": {
   "display_name": "Python 3 (ipykernel)",
   "language": "python",
   "name": "python3"
  },
  "language_info": {
   "codemirror_mode": {
    "name": "ipython",
    "version": 3
   },
   "file_extension": ".py",
   "mimetype": "text/x-python",
   "name": "python",
   "nbconvert_exporter": "python",
   "pygments_lexer": "ipython3",
   "version": "3.9.13"
  }
 },
 "nbformat": 4,
 "nbformat_minor": 5
}
