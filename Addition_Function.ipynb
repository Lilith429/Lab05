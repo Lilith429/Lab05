{
 "cells": [
  {
   "cell_type": "code",
   "execution_count": 15,
   "id": "350fbb56",
   "metadata": {},
   "outputs": [
    {
     "name": "stdout",
     "output_type": "stream",
     "text": [
      "Please enter two numbers: 10\n",
      "Please enter two numbers: 20\n"
     ]
    },
    {
     "data": {
      "text/plain": [
       "30"
      ]
     },
     "execution_count": 15,
     "metadata": {},
     "output_type": "execute_result"
    }
   ],
   "source": [
    "def sum_of_two(num1,num2):\n",
    "    sumNum = num1 + num2\n",
    "    return sumNum\n",
    "anum1 = int(input(\"Please enter two numbers: \"))\n",
    "anum2 = int(input(\"Please enter two numbers: \"))\n",
    "sum_of_two(anum1,anum2)"
   ]
  },
  {
   "cell_type": "code",
   "execution_count": null,
   "id": "6397e7ba",
   "metadata": {},
   "outputs": [],
   "source": []
  },
  {
   "cell_type": "code",
   "execution_count": null,
   "id": "83313e0d",
   "metadata": {},
   "outputs": [],
   "source": []
  }
 ],
 "metadata": {
  "kernelspec": {
   "display_name": "Python 3 (ipykernel)",
   "language": "python",
   "name": "python3"
  },
  "language_info": {
   "codemirror_mode": {
    "name": "ipython",
    "version": 3
   },
   "file_extension": ".py",
   "mimetype": "text/x-python",
   "name": "python",
   "nbconvert_exporter": "python",
   "pygments_lexer": "ipython3",
   "version": "3.9.13"
  }
 },
 "nbformat": 4,
 "nbformat_minor": 5
}
